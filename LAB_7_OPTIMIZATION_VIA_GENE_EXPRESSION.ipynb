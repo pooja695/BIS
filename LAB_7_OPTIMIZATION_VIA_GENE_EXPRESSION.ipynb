{
 "cells": [
  {
   "cell_type": "markdown",
   "id": "8a3b5897-43d7-4452-b214-9b5b52fd335f",
   "metadata": {},
   "source": [
    "## **OPTIMIZATION VIA GENE EXPRESSION**"
   ]
  },
  {
   "cell_type": "code",
   "execution_count": 1,
   "id": "80b801ec-bc1a-43ad-9673-008e6fd8f1fd",
   "metadata": {},
   "outputs": [
    {
     "name": "stdout",
     "output_type": "stream",
     "text": [
      "Gene Expression Algorithm for Optimization\n",
      "\n"
     ]
    },
    {
     "name": "stdin",
     "output_type": "stream",
     "text": [
      "Enter population size:  5\n",
      "Enter gene length:  3\n",
      "Enter mutation rate (e.g., 0.01):  0.1\n",
      "Enter crossover rate (e.g., 0.7):  0.8\n",
      "Enter number of generations:  3\n",
      "Enter lower bound of the solution space:  -10\n",
      "Enter upper bound of the solution space:  10\n"
     ]
    },
    {
     "name": "stdout",
     "output_type": "stream",
     "text": [
      "\n",
      "Starting Gene Expression Algorithm...\n",
      "--------------------------------------------------\n",
      "Generation 1/3\n",
      "  Best Solution So Far: 1.4286\n",
      "  Best Fitness So Far: -0.3265\n",
      "  Average Fitness: -31.0204\n",
      "--------------------------------------------------\n",
      "Generation 2/3\n",
      "  Best Solution So Far: 1.4286\n",
      "  Best Fitness So Far: -0.3265\n",
      "  Average Fitness: -54.6122\n",
      "--------------------------------------------------\n",
      "Generation 3/3\n",
      "  Best Solution So Far: 1.4286\n",
      "  Best Fitness So Far: -0.3265\n",
      "  Average Fitness: -48.4898\n",
      "--------------------------------------------------\n",
      "\n",
      "Algorithm Completed!\n",
      "==================================================\n",
      "Best Solution Found: 1.4286\n",
      "Fitness of Best Solution: -0.3265\n",
      "==================================================\n"
     ]
    }
   ],
   "source": [
    "import random\n",
    "\n",
    "def fitness_function(x):\n",
    "    return -1 * (x**2 - 4*x + 4)\n",
    "\n",
    "def decode(chromosome, lower_bound, upper_bound):\n",
    "    max_value = 2**len(chromosome) - 1\n",
    "    decoded = int(chromosome, 2)\n",
    "    return lower_bound + (decoded / max_value) * (upper_bound - lower_bound)\n",
    "\n",
    "def initialize_population(population_size, gene_length):\n",
    "    return [''.join(random.choice('01') for _ in range(gene_length)) for _ in range(population_size)]\n",
    "\n",
    "def evaluate_population(population, lower_bound, upper_bound):\n",
    "    return [fitness_function(decode(ind, lower_bound, upper_bound)) for ind in population]\n",
    "\n",
    "def select_parents(population, fitnesses):\n",
    "    total_fitness = sum(fitnesses)\n",
    "    selection_probs = [f / total_fitness for f in fitnesses]\n",
    "    return random.choices(population, weights=selection_probs, k=2)\n",
    "\n",
    "def crossover(parent1, parent2):\n",
    "    point = random.randint(1, len(parent1) - 1)\n",
    "    return parent1[:point] + parent2[point:], parent2[:point] + parent1[point:]\n",
    "\n",
    "def mutate(chromosome, mutation_rate):\n",
    "    return ''.join(bit if random.random() > mutation_rate else random.choice('01') for bit in chromosome)\n",
    "\n",
    "def gene_expression_algorithm(population_size, gene_length, mutation_rate, crossover_rate, generations, lower_bound, upper_bound):\n",
    "    population = initialize_population(population_size, gene_length)\n",
    "    best_solution = None\n",
    "    best_fitness = float('-inf')\n",
    "\n",
    "    for generation in range(generations):\n",
    "        fitnesses = evaluate_population(population, lower_bound, upper_bound)\n",
    "\n",
    "        for ind, fit in zip(population, fitnesses):\n",
    "            if fit > best_fitness:\n",
    "                best_fitness = fit\n",
    "                best_solution = ind\n",
    "\n",
    "        print(f\"Generation {generation + 1}/{generations}\")\n",
    "        print(f\"  Best Solution So Far: {decode(best_solution, lower_bound, upper_bound):.4f}\")\n",
    "        print(f\"  Best Fitness So Far: {best_fitness:.4f}\")\n",
    "        print(f\"  Average Fitness: {sum(fitnesses) / len(fitnesses):.4f}\")\n",
    "        print(\"-\" * 50)\n",
    "\n",
    "        new_population = []\n",
    "        for _ in range(population_size // 2):\n",
    "            parent1, parent2 = select_parents(population, fitnesses)\n",
    "            if random.random() < crossover_rate:\n",
    "                offspring1, offspring2 = crossover(parent1, parent2)\n",
    "            else:\n",
    "                offspring1, offspring2 = parent1, parent2\n",
    "            new_population.append(mutate(offspring1, mutation_rate))\n",
    "            new_population.append(mutate(offspring2, mutation_rate))\n",
    "\n",
    "        population = new_population\n",
    "\n",
    "    decoded_best = decode(best_solution, lower_bound, upper_bound)\n",
    "    return decoded_best, best_fitness\n",
    "\n",
    "if __name__ == \"__main__\":\n",
    "    print(\"Gene Expression Algorithm for Optimization\\n\")\n",
    "    population_size = int(input(\"Enter population size: \"))\n",
    "    gene_length = int(input(\"Enter gene length: \"))\n",
    "    mutation_rate = float(input(\"Enter mutation rate (e.g., 0.01): \"))\n",
    "    crossover_rate = float(input(\"Enter crossover rate (e.g., 0.7): \"))\n",
    "    generations = int(input(\"Enter number of generations: \"))\n",
    "    lower_bound = float(input(\"Enter lower bound of the solution space: \"))\n",
    "    upper_bound = float(input(\"Enter upper bound of the solution space: \"))\n",
    "\n",
    "    print(\"\\nStarting Gene Expression Algorithm...\")\n",
    "    print(\"-\" * 50)\n",
    "\n",
    "    best_solution, best_fitness = gene_expression_algorithm(\n",
    "        population_size, gene_length, mutation_rate, crossover_rate, generations, lower_bound, upper_bound\n",
    "    )\n",
    "\n",
    "    print(\"\\nAlgorithm Completed!\")\n",
    "    print(\"=\" * 50)\n",
    "    print(f\"Best Solution Found: {best_solution:.4f}\")\n",
    "    print(f\"Fitness of Best Solution: {best_fitness:.4f}\")\n",
    "    print(\"=\" * 50)\n"
   ]
  },
  {
   "cell_type": "code",
   "execution_count": null,
   "id": "a5d206f0-7b12-4535-9af4-ea5d2404b0ef",
   "metadata": {},
   "outputs": [],
   "source": []
  }
 ],
 "metadata": {
  "kernelspec": {
   "display_name": "Python 3 (ipykernel)",
   "language": "python",
   "name": "python3"
  },
  "language_info": {
   "codemirror_mode": {
    "name": "ipython",
    "version": 3
   },
   "file_extension": ".py",
   "mimetype": "text/x-python",
   "name": "python",
   "nbconvert_exporter": "python",
   "pygments_lexer": "ipython3",
   "version": "3.11.7"
  }
 },
 "nbformat": 4,
 "nbformat_minor": 5
}
