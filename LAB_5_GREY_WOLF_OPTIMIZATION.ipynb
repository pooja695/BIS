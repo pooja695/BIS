{
 "cells": [
  {
   "cell_type": "markdown",
   "id": "26d3e234-697d-4508-a8cf-74eb972eb890",
   "metadata": {},
   "source": [
    "## **GREY WOLF OPTIMIZATION**"
   ]
  },
  {
   "cell_type": "code",
   "execution_count": 1,
   "id": "1faac3cd-0fa7-4385-a906-6286d2bb4b06",
   "metadata": {},
   "outputs": [
    {
     "name": "stdout",
     "output_type": "stream",
     "text": [
      "Iter = 10 best fitness = 21.811\n",
      "Iter = 20 best fitness = 0.114\n",
      "Iter = 30 best fitness = 0.005\n",
      "Iter = 40 best fitness = 0.005\n",
      "Iter = 50 best fitness = 0.005\n",
      "Iter = 60 best fitness = 0.000\n",
      "Iter = 70 best fitness = 0.000\n",
      "Iter = 80 best fitness = 0.000\n",
      "Iter = 90 best fitness = 0.000\n",
      "Iter = 100 best fitness = 0.000\n",
      "\n",
      "GWO completed\n",
      "\n",
      "Best solution found: [-2.27586286e-02  2.61356820e-07  7.83820538e-03]\n",
      "Fitness of best solution = 0.000011\n",
      "\n",
      "End GWO for Rastrigin function\n"
     ]
    }
   ],
   "source": [
    "import numpy as np\n",
    "def rastrigin_function(x):\n",
    "    A = 10\n",
    "    return A * len(x) + np.sum(x**2 - A * np.cos(2 * np.pi * x))\n",
    "class GreyWolfOptimizer:\n",
    "    def __init__(self, cost_function, dim, pop_size, max_iter, lb, ub):\n",
    "        self.cost_function = cost_function\n",
    "        self.dim = dim\n",
    "        self.pop_size = pop_size\n",
    "        self.max_iter = max_iter\n",
    "        self.lb = lb\n",
    "        self.ub = ub\n",
    "        self.alpha_position = np.zeros(dim)\n",
    "        self.beta_position = np.zeros(dim)\n",
    "        self.delta_position = np.zeros(dim)\n",
    "        self.alpha_score = float('inf')\n",
    "        self.beta_score = float('inf')\n",
    "        self.delta_score = float('inf')\n",
    "        self.positions = np.random.uniform(lb, ub, (pop_size, dim))\n",
    "    def optimize(self):\n",
    "        for t in range(self.max_iter):\n",
    "            for i in range(self.pop_size):\n",
    "                fitness = self.cost_function(self.positions[i])\n",
    "                if fitness < self.alpha_score:\n",
    "                    self.alpha_score = fitness\n",
    "                    self.alpha_position = self.positions[i]\n",
    "                elif fitness < self.beta_score:\n",
    "                    self.beta_score = fitness\n",
    "                    self.beta_position = self.positions[i]\n",
    "                elif fitness < self.delta_score:\n",
    "                    self.delta_score = fitness\n",
    "                    self.delta_position = self.positions[i]\n",
    "            A1 = 2 * np.random.random(self.dim) - 1\n",
    "            A2 = 2 * np.random.random(self.dim) - 1\n",
    "            A3 = 2 * np.random.random(self.dim) - 1\n",
    "            C1 = 2 * np.random.random(self.dim)\n",
    "            C2 = 2 * np.random.random(self.dim)\n",
    "            C3 = 2 * np.random.random(self.dim)\n",
    "            for i in range(self.pop_size):\n",
    "                D_alpha = np.abs(C1 * self.alpha_position - self.positions[i])\n",
    "                D_beta = np.abs(C2 * self.beta_position - self.positions[i])\n",
    "                D_delta = np.abs(C3 * self.delta_position - self.positions[i])\n",
    "                self.positions[i] = self.positions[i] + A1 * D_alpha + A2 * D_beta + A3 * D_delta\n",
    "                self.positions[i] = np.clip(self.positions[i], self.lb, self.ub)\n",
    "            if (t + 1) % 10 == 0:\n",
    "                print(f\"Iter = {t+1} best fitness = {self.alpha_score:.3f}\")\n",
    "        return self.alpha_position, self.alpha_score\n",
    "if __name__ == \"__main__\":\n",
    "    dim = 3\n",
    "    pop_size = 50\n",
    "    max_iter = 100\n",
    "    lb = -5.12\n",
    "    ub = 5.12\n",
    "    gwo = GreyWolfOptimizer(cost_function=rastrigin_function, dim=dim, pop_size=pop_size, max_iter=max_iter, lb=lb, ub=ub)\n",
    "    best_position, best_score = gwo.optimize()\n",
    "    print(\"\\nGWO completed\")\n",
    "    print(f\"\\nBest solution found: {best_position}\")\n",
    "    print(f\"Fitness of best solution = {best_score:.6f}\")\n",
    "    print(\"\\nEnd GWO for Rastrigin function\")"
   ]
  },
  {
   "cell_type": "code",
   "execution_count": null,
   "id": "c5a46790-cb7d-4247-b015-0eaf7ee05ee1",
   "metadata": {},
   "outputs": [],
   "source": []
  }
 ],
 "metadata": {
  "kernelspec": {
   "display_name": "Python 3 (ipykernel)",
   "language": "python",
   "name": "python3"
  },
  "language_info": {
   "codemirror_mode": {
    "name": "ipython",
    "version": 3
   },
   "file_extension": ".py",
   "mimetype": "text/x-python",
   "name": "python",
   "nbconvert_exporter": "python",
   "pygments_lexer": "ipython3",
   "version": "3.11.7"
  }
 },
 "nbformat": 4,
 "nbformat_minor": 5
}
