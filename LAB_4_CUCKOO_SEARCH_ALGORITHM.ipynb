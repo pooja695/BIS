{
 "cells": [
  {
   "cell_type": "markdown",
   "id": "9e1b0970-4c57-43d2-a210-7357f2f90c51",
   "metadata": {},
   "source": [
    "## **CUCKOO SEARCH ALGORITHM**"
   ]
  },
  {
   "cell_type": "code",
   "execution_count": 1,
   "id": "b5024200-25fa-4a13-9c48-bbfb929e93b7",
   "metadata": {},
   "outputs": [
    {
     "name": "stdin",
     "output_type": "stream",
     "text": [
      "Number of dimensions (variables):  5\n",
      "Number of nests (population size):  5\n",
      "Maximum number of iterations:  5\n",
      "Lower bound for the solution space:  -5\n",
      "Upper bound for the solution space:  5\n",
      "Probability of discovering an egg:  25\n"
     ]
    },
    {
     "name": "stdout",
     "output_type": "stream",
     "text": [
      "Iteration 1/5, Best Fitness: 11.765750793091378\n",
      "Iteration 2/5, Best Fitness: 11.765750793091378\n",
      "Iteration 3/5, Best Fitness: 11.765750793091378\n",
      "Iteration 4/5, Best Fitness: 11.765750793091378\n",
      "Iteration 5/5, Best Fitness: 11.765750793091378\n",
      "\n",
      "Best Solution Found:\n",
      "Solution: [ 4.11364823 -0.94939013  0.30957293  2.19908154  3.3451759 ]\n",
      "Fitness: 11.765750793091378\n"
     ]
    }
   ],
   "source": [
    "import numpy as np\n",
    "import math\n",
    "\n",
    "def objective_function(x):\n",
    "    return np.sum(x**2)\n",
    "\n",
    "def levy_flight(Lambda):\n",
    "    sigma = (math.gamma(1 + Lambda) * np.sin(np.pi * Lambda / 2) /\n",
    "             (math.gamma((1 + Lambda) / 2) * Lambda * 2**((Lambda - 1) / 2)))**(1 / Lambda)\n",
    "    u = np.random.normal(0, sigma, size=dimension)\n",
    "    v = np.random.normal(0, 1, size=dimension)\n",
    "    step = u / np.abs(v)**(1 / Lambda)\n",
    "    return step\n",
    "\n",
    "def cuckoo_search(n=5, max_iter=5, lb=-5, ub=5, pa=0.25, Lambda=1.5):\n",
    "    nests = np.random.uniform(lb, ub, (n, dimension))\n",
    "    fitness = np.array([objective_function(nest) for nest in nests])\n",
    "    best_nest = nests[np.argmin(fitness)]\n",
    "    best_fitness = np.min(fitness)\n",
    "\n",
    "    for iteration in range(max_iter):\n",
    "        for i in range(n):\n",
    "            step_size = levy_flight(Lambda)\n",
    "            new_nest = nests[i] + step_size\n",
    "            new_nest = np.clip(new_nest, lb, ub)\n",
    "            new_fitness = objective_function(new_nest)\n",
    "\n",
    "            if new_fitness < fitness[i]:\n",
    "                nests[i] = new_nest\n",
    "                fitness[i] = new_fitness\n",
    "\n",
    "        for i in range(n):\n",
    "            if np.random.rand() < pa:\n",
    "                nests[i] = np.random.uniform(lb, ub, dimension)\n",
    "                fitness[i] = objective_function(nests[i])\n",
    "\n",
    "        current_best_fitness = np.min(fitness)\n",
    "        if current_best_fitness < best_fitness:\n",
    "            best_fitness = current_best_fitness\n",
    "            best_nest = nests[np.argmin(fitness)]\n",
    "\n",
    "        print(f\"Iteration {iteration + 1}/{max_iter}, Best Fitness: {best_fitness}\")\n",
    "\n",
    "    print(\"\\nBest Solution Found:\")\n",
    "    print(f\"Solution: {best_nest}\")\n",
    "    print(f\"Fitness: {best_fitness}\")\n",
    "\n",
    "dimension = int(input(\"Number of dimensions (variables): \"))\n",
    "nests = int(input(\"Number of nests (population size): \"))\n",
    "max_iterations = int(input(\"Maximum number of iterations: \"))\n",
    "lb = int(input(\"Lower bound for the solution space: \"))\n",
    "ub = int(input(\"Upper bound for the solution space: \"))\n",
    "pa = float(input(\"Probability of discovering an egg: \"))\n",
    "\n",
    "cuckoo_search(n=nests, max_iter=max_iterations, lb=lb, ub=ub, pa=pa)"
   ]
  },
  {
   "cell_type": "code",
   "execution_count": null,
   "id": "7284f6e8-da46-4210-9259-cd75846bdfd2",
   "metadata": {},
   "outputs": [],
   "source": []
  }
 ],
 "metadata": {
  "kernelspec": {
   "display_name": "Python 3 (ipykernel)",
   "language": "python",
   "name": "python3"
  },
  "language_info": {
   "codemirror_mode": {
    "name": "ipython",
    "version": 3
   },
   "file_extension": ".py",
   "mimetype": "text/x-python",
   "name": "python",
   "nbconvert_exporter": "python",
   "pygments_lexer": "ipython3",
   "version": "3.11.7"
  }
 },
 "nbformat": 4,
 "nbformat_minor": 5
}
