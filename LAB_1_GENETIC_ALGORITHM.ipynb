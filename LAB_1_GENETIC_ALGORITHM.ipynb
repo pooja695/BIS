{
 "cells": [
  {
   "cell_type": "markdown",
   "id": "f0d1005b-932d-4403-bde2-2d6a10a6a059",
   "metadata": {},
   "source": [
    "### **GENETIC ALGORITHM**"
   ]
  },
  {
   "cell_type": "code",
   "execution_count": 1,
   "id": "44ff5a35-3b6d-4bb6-b54b-d867827a627d",
   "metadata": {},
   "outputs": [
    {
     "name": "stdin",
     "output_type": "stream",
     "text": [
      "Enter Population size:  10\n",
      "Enter Gene length:  5\n",
      "Enter Mutation rate:  0.01\n",
      "Enter Generations:  100\n"
     ]
    },
    {
     "name": "stdout",
     "output_type": "stream",
     "text": [
      "Best solution: 30, Fitness: 900\n"
     ]
    }
   ],
   "source": [
    "import random\n",
    "\n",
    "POPULATION_SIZE = int(input(\"Enter Population size: \"))\n",
    "GENE_LENGTH = int(input(\"Enter Gene length: \"))\n",
    "MUTATION_RATE = float(input(\"Enter Mutation rate: \"))\n",
    "GENERATIONS = int(input(\"Enter Generations: \"))\n",
    "\n",
    "def fitness(x):\n",
    "    return x**2\n",
    "\n",
    "def decode(binary_str):\n",
    "    return int(binary_str, 2)\n",
    "\n",
    "def create_population():\n",
    "    return [''.join(random.choice('01') for _ in range(GENE_LENGTH)) for _ in range(POPULATION_SIZE)]\n",
    "\n",
    "def evaluate_population(population):\n",
    "    return [fitness(decode(individual)) for individual in population]\n",
    "\n",
    "def select_parents(population, fitnesses):\n",
    "    total_fitness = sum(fitnesses)\n",
    "    selection_probs = [f / total_fitness for f in fitnesses]\n",
    "    return random.choices(population, weights=selection_probs, k=2)\n",
    "\n",
    "def crossover(parent1, parent2):\n",
    "    point = random.randint(1, GENE_LENGTH - 1)\n",
    "    return parent1[:point] + parent2[point:], parent2[:point] + parent1[point:]\n",
    "\n",
    "def mutate(individual):\n",
    "    return ''.join(bit if random.random() > MUTATION_RATE else random.choice('01') for bit in individual)\n",
    "\n",
    "def genetic_algorithm():\n",
    "    population = create_population()\n",
    "\n",
    "    for generation in range(GENERATIONS):\n",
    "        fitnesses = evaluate_population(population)\n",
    "        new_population = []\n",
    "\n",
    "        for _ in range(POPULATION_SIZE // 2):\n",
    "            parent1, parent2 = select_parents(population, fitnesses)\n",
    "            offspring1, offspring2 = crossover(parent1, parent2)\n",
    "            new_population.append(mutate(offspring1))\n",
    "            new_population.append(mutate(offspring2))\n",
    "\n",
    "        population = new_population\n",
    "\n",
    "    best_individual = max(population, key=lambda ind: fitness(decode(ind)))\n",
    "    best_fitness = fitness(decode(best_individual))\n",
    "\n",
    "    return decode(best_individual), best_fitness\n",
    "\n",
    "if __name__ == \"__main__\":\n",
    "    best_solution, best_fitness = genetic_algorithm()\n",
    "    print(f\"Best solution: {best_solution}, Fitness: {best_fitness}\")\n"
   ]
  },
  {
   "cell_type": "code",
   "execution_count": null,
   "id": "c2f59578-549b-4385-a3b2-58714ca01bb9",
   "metadata": {},
   "outputs": [],
   "source": []
  }
 ],
 "metadata": {
  "kernelspec": {
   "display_name": "Python 3 (ipykernel)",
   "language": "python",
   "name": "python3"
  },
  "language_info": {
   "codemirror_mode": {
    "name": "ipython",
    "version": 3
   },
   "file_extension": ".py",
   "mimetype": "text/x-python",
   "name": "python",
   "nbconvert_exporter": "python",
   "pygments_lexer": "ipython3",
   "version": "3.11.7"
  }
 },
 "nbformat": 4,
 "nbformat_minor": 5
}
