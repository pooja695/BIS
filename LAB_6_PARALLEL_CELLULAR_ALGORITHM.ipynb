{
 "cells": [
  {
   "cell_type": "markdown",
   "id": "b30cb90e-5186-4b67-8daf-332895192149",
   "metadata": {},
   "source": [
    "# **PARALLEL CELLULAR ALGORITHM**"
   ]
  },
  {
   "cell_type": "code",
   "execution_count": null,
   "id": "3df58b7b-876c-4ee2-92bb-c4d4c96fd0b8",
   "metadata": {},
   "outputs": [
    {
     "name": "stdin",
     "output_type": "stream",
     "text": [
      "Enter grid size:  5\n",
      "Enter number of iterations:  3\n"
     ]
    },
    {
     "name": "stdout",
     "output_type": "stream",
     "text": [
      "\n",
      "Starting Parallel Cellular Algorithm...\n",
      "Grid Size: 5x5\n",
      "Number of Iterations: 3\n",
      "--------------------------------------------------\n"
     ]
    }
   ],
   "source": [
    "import numpy as np\n",
    "from multiprocessing import Pool\n",
    "\n",
    "def fitness_function(x):\n",
    "    return x**2 - 4*x + 4\n",
    "\n",
    "def update_cell(cell_info):\n",
    "    x, neighbors = cell_info\n",
    "    new_value = np.mean(neighbors)\n",
    "    return new_value\n",
    "\n",
    "def parallel_cellular_algorithm(grid_size, num_iterations):\n",
    "    grid = np.random.uniform(-10, 10, (grid_size, grid_size))\n",
    "    best_solution = None\n",
    "    best_fitness = float('inf')\n",
    "\n",
    "    def get_neighbors(i, j):\n",
    "        neighbors = []\n",
    "        for di in [-1, 0, 1]:\n",
    "            for dj in [-1, 0, 1]:\n",
    "                if di == 0 and dj == 0:\n",
    "                    continue\n",
    "                ni, nj = (i + di) % grid_size, (j + dj) % grid_size\n",
    "                neighbors.append(grid[ni, nj])\n",
    "        return neighbors\n",
    "\n",
    "    for iteration in range(num_iterations):\n",
    "        inputs = []\n",
    "        for i in range(grid_size):\n",
    "            for j in range(grid_size):\n",
    "                neighbors = get_neighbors(i, j)\n",
    "                inputs.append((grid[i, j], neighbors))\n",
    "\n",
    "        with Pool() as pool:\n",
    "            updated_values = pool.map(update_cell, inputs)\n",
    "\n",
    "        updated_grid = np.array(updated_values).reshape(grid_size, grid_size)\n",
    "        grid = updated_grid\n",
    "\n",
    "        for i in range(grid_size):\n",
    "            for j in range(grid_size):\n",
    "                fitness = fitness_function(grid[i, j])\n",
    "                if fitness < best_fitness:\n",
    "                    best_fitness = fitness\n",
    "                    best_solution = grid[i, j]\n",
    "\n",
    "        print(f\"Iteration {iteration + 1}/{num_iterations}:\")\n",
    "        print(f\"  Current Best Solution: {best_solution}\")\n",
    "        print(f\"  Current Best Fitness: {best_fitness:.4f}\")\n",
    "        print(f\"  Average Fitness of Grid: {np.mean([fitness_function(grid[i, j]) for i in range(grid_size) for j in range(grid_size)]):.4f}\")\n",
    "        print(\"-\" * 50)\n",
    "\n",
    "    return best_solution, best_fitness\n",
    "\n",
    "if __name__ == \"__main__\":\n",
    "    grid_size = int(input(\"Enter grid size: \"))\n",
    "    num_iterations = int(input(\"Enter number of iterations: \"))\n",
    "\n",
    "    print(\"\\nStarting Parallel Cellular Algorithm...\")\n",
    "    print(f\"Grid Size: {grid_size}x{grid_size}\")\n",
    "    print(f\"Number of Iterations: {num_iterations}\")\n",
    "    print(\"-\" * 50)\n",
    "\n",
    "    solution, fitness = parallel_cellular_algorithm(grid_size, num_iterations)\n",
    "\n",
    "    print(\"\\nAlgorithm Completed!\")\n",
    "    print(\"=\" * 50)\n",
    "    print(f\"Best Solution Found: {solution}\")\n",
    "    print(f\"Fitness of Best Solution: {fitness:.4f}\")\n",
    "    print(\"=\" * 50)"
   ]
  },
  {
   "cell_type": "code",
   "execution_count": null,
   "id": "5ac1d613-a96e-4326-af42-ed33593e33c7",
   "metadata": {},
   "outputs": [],
   "source": []
  }
 ],
 "metadata": {
  "kernelspec": {
   "display_name": "Python 3 (ipykernel)",
   "language": "python",
   "name": "python3"
  },
  "language_info": {
   "codemirror_mode": {
    "name": "ipython",
    "version": 3
   },
   "file_extension": ".py",
   "mimetype": "text/x-python",
   "name": "python",
   "nbconvert_exporter": "python",
   "pygments_lexer": "ipython3",
   "version": "3.11.7"
  }
 },
 "nbformat": 4,
 "nbformat_minor": 5
}
