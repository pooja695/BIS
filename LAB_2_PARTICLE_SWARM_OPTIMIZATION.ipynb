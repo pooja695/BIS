{
 "cells": [
  {
   "cell_type": "markdown",
   "id": "03314390-dcac-4a69-a4c0-932e091ec326",
   "metadata": {},
   "source": [
    "## **PARTICLE SWARM OPTIMIZATION**"
   ]
  },
  {
   "cell_type": "code",
   "execution_count": 1,
   "id": "17a4dd17-bfdd-4501-865a-46b8b5d59724",
   "metadata": {},
   "outputs": [
    {
     "name": "stdin",
     "output_type": "stream",
     "text": [
      "Enter the number of particles:  10\n",
      "Enter the number of iterations:  2\n",
      "Enter the inertia weight (e.g., 0.5):  0.5\n",
      "Enter the cognitive constant (e.g., 1.5):  1.5\n",
      "Enter the social constant (e.g., 1.5):  1.5\n"
     ]
    },
    {
     "name": "stdout",
     "output_type": "stream",
     "text": [
      "Iteration 1:\n",
      "Particle 1: Position = -0.6209, Velocity = 9.1665, Fitness = 16.5100\n",
      "Particle 2: Position = 3.2784, Velocity = -0.4112, Fitness = 25.6441\n",
      "Particle 3: Position = 1.0038, Velocity = 3.3820, Fitness = 24.0113\n",
      "Particle 4: Position = 2.2548, Velocity = 0.6274, Fitness = 26.1899\n",
      "Particle 5: Position = 3.8827, Velocity = -2.8700, Fitness = 24.3380\n",
      "Particle 6: Position = 2.2543, Velocity = 1.7120, Fitness = 26.1896\n",
      "Particle 7: Position = 3.4949, Velocity = -1.0658, Fitness = 25.2601\n",
      "Particle 8: Position = 2.0975, Velocity = 0.0000, Fitness = 26.0880\n",
      "Particle 9: Position = 1.3754, Velocity = 7.2835, Fitness = 24.9854\n",
      "Particle 10: Position = 4.0023, Velocity = -2.7607, Fitness = 23.9930\n",
      "Global Best Position = 2.2548, Global Best Fitness = 26.1899\n",
      "\n",
      "Iteration 2:\n",
      "Particle 1: Position = 7.1333, Velocity = 7.7542, Fitness = 4.7823\n",
      "Particle 2: Position = 2.4996, Velocity = -0.7789, Fitness = 26.2500\n",
      "Particle 3: Position = 3.0189, Velocity = 2.0151, Fitness = 25.9808\n",
      "Particle 4: Position = 2.5685, Velocity = 0.3137, Fitness = 26.2453\n",
      "Particle 5: Position = 0.8342, Velocity = -3.0485, Fitness = 23.4751\n",
      "Particle 6: Position = 3.1106, Velocity = 0.8563, Fitness = 25.8771\n",
      "Particle 7: Position = 2.9309, Velocity = -0.5640, Fitness = 26.0643\n",
      "Particle 8: Position = 2.1633, Velocity = 0.0659, Fitness = 26.1367\n",
      "Particle 9: Position = 5.0936, Velocity = 3.7182, Fitness = 19.5232\n",
      "Particle 10: Position = 0.3951, Velocity = -3.6072, Fitness = 21.8194\n",
      "Global Best Position = 2.4996, Global Best Fitness = 26.2500\n",
      "\n",
      "Optimal Solution: Position = 2.4996, Value = 26.2500\n"
     ]
    }
   ],
   "source": [
    "import numpy as np\n",
    "\n",
    "def objective_function(x):\n",
    "    return -x**2 + 5*x + 20\n",
    "\n",
    "def initialize_particles(n_particles, bounds):\n",
    "    positions = np.random.uniform(bounds[0], bounds[1], n_particles)\n",
    "    velocities = np.zeros(n_particles)\n",
    "    return positions, velocities\n",
    "\n",
    "def pso(n_particles, bounds, max_iter, w, c1, c2):\n",
    "    positions, velocities = initialize_particles(n_particles, bounds)\n",
    "    pbest_positions = np.copy(positions)\n",
    "    pbest_values = objective_function(pbest_positions)\n",
    "    gbest_position = pbest_positions[np.argmax(pbest_values)]\n",
    "    gbest_value = max(pbest_values)\n",
    "\n",
    "    for iteration in range(max_iter):\n",
    "        print(f\"Iteration {iteration + 1}:\")\n",
    "\n",
    "        for i in range(n_particles):\n",
    "            r1, r2 = np.random.rand(), np.random.rand()\n",
    "            velocities[i] = (w * velocities[i] +\n",
    "                             c1 * r1 * (pbest_positions[i] - positions[i]) +\n",
    "                             c2 * r2 * (gbest_position - positions[i]))\n",
    "            positions[i] += velocities[i]\n",
    "\n",
    "            fitness_value = objective_function(positions[i])\n",
    "            print(f\"Particle {i+1}: Position = {positions[i]:.4f}, Velocity = {velocities[i]:.4f}, Fitness = {fitness_value:.4f}\")\n",
    "\n",
    "            if fitness_value > pbest_values[i]:\n",
    "                pbest_positions[i] = positions[i]\n",
    "                pbest_values[i] = fitness_value\n",
    "\n",
    "        if max(pbest_values) > gbest_value:\n",
    "            gbest_position = pbest_positions[np.argmax(pbest_values)]\n",
    "            gbest_value = max(pbest_values)\n",
    "\n",
    "        print(f\"Global Best Position = {gbest_position:.4f}, Global Best Fitness = {gbest_value:.4f}\\n\")\n",
    "\n",
    "    return gbest_position, gbest_value\n",
    "\n",
    "if __name__ == \"__main__\":\n",
    "    n_particles = int(input(\"Enter the number of particles: \"))\n",
    "    bounds = (-10, 10)\n",
    "    max_iter = int(input(\"Enter the number of iterations: \"))\n",
    "    w = float(input(\"Enter the inertia weight (e.g., 0.5): \"))\n",
    "    c1 = float(input(\"Enter the cognitive constant (e.g., 1.5): \"))\n",
    "    c2 = float(input(\"Enter the social constant (e.g., 1.5): \"))\n",
    "\n",
    "    best_position, best_value = pso(n_particles, bounds, max_iter, w, c1, c2)\n",
    "    print(f\"Optimal Solution: Position = {best_position:.4f}, Value = {best_value:.4f}\")"
   ]
  },
  {
   "cell_type": "code",
   "execution_count": null,
   "id": "9c2f9700-e1d2-4c13-8f65-d901b1a57989",
   "metadata": {},
   "outputs": [],
   "source": []
  }
 ],
 "metadata": {
  "kernelspec": {
   "display_name": "Python 3 (ipykernel)",
   "language": "python",
   "name": "python3"
  },
  "language_info": {
   "codemirror_mode": {
    "name": "ipython",
    "version": 3
   },
   "file_extension": ".py",
   "mimetype": "text/x-python",
   "name": "python",
   "nbconvert_exporter": "python",
   "pygments_lexer": "ipython3",
   "version": "3.11.7"
  }
 },
 "nbformat": 4,
 "nbformat_minor": 5
}
