{
 "cells": [
  {
   "cell_type": "markdown",
   "id": "66736091-39e8-4240-bdd9-fe802e857aa9",
   "metadata": {},
   "source": [
    "## **ANT COLONY OPTIMIZATION**"
   ]
  },
  {
   "cell_type": "code",
   "execution_count": 1,
   "id": "ae806a16-a827-4393-86ba-159d9f8667ce",
   "metadata": {},
   "outputs": [
    {
     "name": "stdin",
     "output_type": "stream",
     "text": [
      "Enter the number of cities:  4\n"
     ]
    },
    {
     "name": "stdout",
     "output_type": "stream",
     "text": [
      "Enter the distance matrix row by row, separated by spaces (use 0 for the diagonal):\n"
     ]
    },
    {
     "name": "stdin",
     "output_type": "stream",
     "text": [
      "Row 1:  0 4 15 1\n",
      "Row 2:  4 0 5 8\n",
      "Row 3:  15 5 0 4\n",
      "Row 4:   1 8 4 0\n",
      "Enter the number of ants:  2\n",
      "Enter the number of iterations:  3\n",
      "Enter the pheromone decay rate (e.g., 0.1):  0.1\n"
     ]
    },
    {
     "name": "stdout",
     "output_type": "stream",
     "text": [
      "Best path:  [0, 3, 2, 1, 0]\n",
      "Best distance:  14.0\n"
     ]
    }
   ],
   "source": [
    "import numpy as np\n",
    "\n",
    "class AntColony:\n",
    "    def __init__(self, distance_matrix, num_ants, num_iterations, decay):\n",
    "        self.distance_matrix = distance_matrix\n",
    "        self.num_ants = num_ants\n",
    "        self.num_iterations = num_iterations\n",
    "        self.decay = decay\n",
    "        self.num_cities = len(distance_matrix)\n",
    "        self.pheromone = np.ones((self.num_cities, self.num_cities))\n",
    "\n",
    "    def run(self):\n",
    "        best_path = None\n",
    "        best_distance = float('inf')\n",
    "\n",
    "        for _ in range(self.num_iterations):\n",
    "            all_paths = self.generate_all_paths()\n",
    "            for path, distance in all_paths:\n",
    "                if distance < best_distance:\n",
    "                    best_path = path\n",
    "                    best_distance = distance\n",
    "            self.update_pheromones(all_paths)\n",
    "\n",
    "            self.pheromone *= (1 - self.decay)\n",
    "\n",
    "        return best_path, best_distance\n",
    "\n",
    "    def generate_all_paths(self):\n",
    "        all_paths = []\n",
    "        for _ in range(self.num_ants):\n",
    "            path = self.generate_path()\n",
    "            distance = self.calculate_total_distance(path)\n",
    "            all_paths.append((path, distance))\n",
    "        return all_paths\n",
    "\n",
    "    def generate_path(self):\n",
    "        path = [0]\n",
    "        visited = {0}\n",
    "\n",
    "        while len(path) < self.num_cities:\n",
    "            current_city = path[-1]\n",
    "            next_city = self.choose_next_city(current_city, visited)\n",
    "            path.append(next_city)\n",
    "            visited.add(next_city)\n",
    "\n",
    "        path.append(0)\n",
    "        return path\n",
    "\n",
    "    def choose_next_city(self, current_city, visited):\n",
    "        probabilities = []\n",
    "        for city in range(self.num_cities):\n",
    "            if city not in visited:\n",
    "                probabilities.append(self.pheromone[current_city][city] / self.distance_matrix[current_city][city])\n",
    "            else:\n",
    "                probabilities.append(0)\n",
    "\n",
    "        probabilities = np.array(probabilities)\n",
    "        probabilities /= probabilities.sum() if probabilities.sum() > 0 else 1\n",
    "\n",
    "        return np.random.choice(range(self.num_cities), p=probabilities)\n",
    "\n",
    "    def calculate_total_distance(self, path):\n",
    "        return sum(self.distance_matrix[path[i]][path[i + 1]] for i in range(len(path) - 1))\n",
    "\n",
    "    def update_pheromones(self, all_paths):\n",
    "        for path, distance in all_paths:\n",
    "            for i in range(len(path) - 1):\n",
    "                self.pheromone[path[i]][path[i + 1]] += 1.0 / distance\n",
    "\n",
    "if __name__ == \"__main__\":\n",
    "    num_cities = int(input(\"Enter the number of cities: \"))\n",
    "    print(\"Enter the distance matrix row by row, separated by spaces (use 0 for the diagonal):\")\n",
    "\n",
    "    distance_matrix = []\n",
    "    for i in range(num_cities):\n",
    "        row = list(map(float, input(f\"Row {i + 1}: \").strip().split()))\n",
    "        if len(row) != num_cities:\n",
    "            print(\"Error: Each row must have the same number of elements as the number of cities.\")\n",
    "            exit(1)\n",
    "        distance_matrix.append(row)\n",
    "\n",
    "    distance_matrix = np.array(distance_matrix)\n",
    "\n",
    "    num_ants = int(input(\"Enter the number of ants: \"))\n",
    "    num_iterations = int(input(\"Enter the number of iterations: \"))\n",
    "    decay = float(input(\"Enter the pheromone decay rate (e.g., 0.1): \"))\n",
    "\n",
    "    aco = AntColony(distance_matrix, num_ants, num_iterations, decay)\n",
    "\n",
    "    best_path, best_distance = aco.run()\n",
    "\n",
    "    print(\"Best path: \", best_path)\n",
    "    print(\"Best distance: \", best_distance)"
   ]
  },
  {
   "cell_type": "code",
   "execution_count": null,
   "id": "7b59b2ed-7e8e-43c1-8a7f-af88552fd110",
   "metadata": {},
   "outputs": [],
   "source": []
  }
 ],
 "metadata": {
  "kernelspec": {
   "display_name": "Python 3 (ipykernel)",
   "language": "python",
   "name": "python3"
  },
  "language_info": {
   "codemirror_mode": {
    "name": "ipython",
    "version": 3
   },
   "file_extension": ".py",
   "mimetype": "text/x-python",
   "name": "python",
   "nbconvert_exporter": "python",
   "pygments_lexer": "ipython3",
   "version": "3.11.7"
  }
 },
 "nbformat": 4,
 "nbformat_minor": 5
}
